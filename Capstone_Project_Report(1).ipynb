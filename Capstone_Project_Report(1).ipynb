{
 "cells": [
  {
   "cell_type": "markdown",
   "metadata": {},
   "source": [
    "# Coursera Capstone Project Report"
   ]
  },
  {
   "cell_type": "markdown",
   "metadata": {},
   "source": [
    "### Topic: Finding appropriate Neighbourhoods in the City of NY for new employees"
   ]
  },
  {
   "cell_type": "markdown",
   "metadata": {},
   "source": [
    "**1. Introduction**"
   ]
  },
  {
   "cell_type": "markdown",
   "metadata": {},
   "source": [
    "Employers often need to relocate to a new city or neighborhood to be closer to the office and company. Not being familiar with the city it is hard for new employers to pick the best neighbourhood to suit their needs. The safety of an area is often crucial for new habitants and for the community. This project will determine which neighborhoods in San Francisco is best to settle down based its safety. The outcome will provide employers to recommend safe and livable communities to their new employees and for their kids. This project is of interest for every company or employer but also for housing and rental websites or schools and school districts to make recommendations. District safety is of interest for parents, education and school districts, police and city council."
   ]
  },
  {
   "cell_type": "markdown",
   "metadata": {},
   "source": [
    "**2. Data**"
   ]
  },
  {
   "cell_type": "markdown",
   "metadata": {},
   "source": [
    "The San Francisco Gov, like most bigger cities in the US, offer Open Data on almost anything city concerning. The crime and incident report is available on public safety by the Police Department."
   ]
  },
  {
   "cell_type": "markdown",
   "metadata": {},
   "source": [
    "**3. Methodology**\n"
   ]
  },
  {
   "cell_type": "markdown",
   "metadata": {},
   "source": [
    "discuss and describe any and describe any exploratory data analysis that you did, any inferential statistical testing that you performed, and what machine learnings were used and why.\n",
    "The data was first adapted to the needs of the process. Several exploratory data analyses were performed to describe and understand the dataset. Group_by was used to categorize the data in different categories.\n",
    "To extent the clustering further a K-means machine learning algorithm was applied."
   ]
  },
  {
   "cell_type": "markdown",
   "metadata": {},
   "source": [
    "**4. Results**"
   ]
  },
  {
   "cell_type": "markdown",
   "metadata": {},
   "source": [
    "The visual results in the map show the neighbourhoods with the highest crime rates and a visualization of a portion of the incidents all over the city. The results show, that central SF has the highest crime rates and neighbourhoods like Park and Richmond a lot less incidents."
   ]
  },
  {
   "cell_type": "markdown",
   "metadata": {},
   "source": [
    "**5. Discussion**"
   ]
  },
  {
   "cell_type": "markdown",
   "metadata": {},
   "source": [
    "Based on the results the neighbourhoods in the south and west of the city are most recommendable."
   ]
  },
  {
   "cell_type": "markdown",
   "metadata": {},
   "source": [
    "**6. Conclusion**"
   ]
  },
  {
   "cell_type": "markdown",
   "metadata": {},
   "source": [
    "San Francisco is a good place for employees working in Tech Industries.If new employees are looking to settle down in San Francisco, based on the results of the crime rate clustering, the neighbourhoods in the south and west of the city are most recommendable."
   ]
  }
 ],
 "metadata": {
  "kernelspec": {
   "display_name": "Python 3",
   "language": "python",
   "name": "python3"
  },
  "language_info": {
   "codemirror_mode": {
    "name": "ipython",
    "version": 3
   },
   "file_extension": ".py",
   "mimetype": "text/x-python",
   "name": "python",
   "nbconvert_exporter": "python",
   "pygments_lexer": "ipython3",
   "version": "3.6.6"
  }
 },
 "nbformat": 4,
 "nbformat_minor": 2
}
